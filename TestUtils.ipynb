{
 "cells": [
  {
   "cell_type": "code",
   "execution_count": null,
   "metadata": {},
   "outputs": [],
   "source": [
    "from TestResults import TestResults\n",
    "from TestCaseResultDto import TestCaseResultDto\n",
    "import json\n",
    "import requests\n",
    "\n",
    "class TestUtils:\n",
    "    GUID = \"dc66f3c1-630f-40ab-8314-f7bb9ffcb71f\"\n",
    "    URL = \"https://yaksha-prod-sbfn.azurewebsites.net/api/YakshaMFAEnqueue?code=jSTWTxtQ8kZgQ5FC0oLgoSgZG7UoU9Asnmxgp6hLLvYId/GW9ccoLw==\"\n",
    "\n",
    "    @classmethod\n",
    "    def yakshaAssert(self, test_name, result, test_type):\n",
    "        ref = open(\"./custom.ih\", \"r\")\n",
    "        customData = ref.read()\n",
    "        ref.close()\n",
    "        test_case_results = dict()\n",
    "\n",
    "        result_status = \"Failed\"\n",
    "        result_score = 0\n",
    "        if result:\n",
    "            result_status = \"Passed\"\n",
    "            result_score = 1\n",
    "\n",
    "        test_case_result_dto = TestCaseResultDto(test_name, test_type, 1, result_score, result_status, True, \"\")\n",
    "        test_case_results[self.GUID] = test_case_result_dto\n",
    "\n",
    "        test_results = TestResults(json.dumps(test_case_results), customData)\n",
    "\n",
    "        final_result = json.dumps(test_results)\n",
    "\n",
    "        requests.post(self.URL, final_result)\n"
   ]
  }
 ],
 "metadata": {
  "kernelspec": {
   "display_name": "Python 3 (ipykernel)",
   "language": "python",
   "name": "python3"
  },
  "language_info": {
   "codemirror_mode": {
    "name": "ipython",
    "version": 3
   },
   "file_extension": ".py",
   "mimetype": "text/x-python",
   "name": "python",
   "nbconvert_exporter": "python",
   "pygments_lexer": "ipython3",
   "version": "3.9.0"
  }
 },
 "nbformat": 4,
 "nbformat_minor": 2
}
