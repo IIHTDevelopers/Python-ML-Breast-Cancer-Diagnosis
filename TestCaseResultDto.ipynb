{
 "cells": [
  {
   "cell_type": "code",
   "execution_count": null,
   "metadata": {},
   "outputs": [],
   "source": [
    "import json\n",
    "class TestCaseResultDto(dict):\n",
    "    methodName = \"\"\n",
    "    methodType = \"\"\n",
    "    actualScore = 0\n",
    "    earnedScore = 0\n",
    "    status = \"\"\n",
    "    isMandatory = True\n",
    "    erroMessage = \"\"\n",
    "\n",
    "    def __init__(self, methodName, methodType, actualScore, earnedScore, status, isMandatory, erroMessage):\n",
    "        dict.__init__(self, methodName = methodName, methodType = methodType, actualScore = actualScore, earnedScore = earnedScore, status = status, isMandatory = isMandatory, erroMessage = erroMessage)\n",
    "\n"
   ]
  }
 ],
 "metadata": {
  "kernelspec": {
   "display_name": "Python 3 (ipykernel)",
   "language": "python",
   "name": "python3"
  },
  "language_info": {
   "codemirror_mode": {
    "name": "ipython",
    "version": 3
   },
   "file_extension": ".py",
   "mimetype": "text/x-python",
   "name": "python",
   "nbconvert_exporter": "python",
   "pygments_lexer": "ipython3",
   "version": "3.9.0"
  }
 },
 "nbformat": 4,
 "nbformat_minor": 2
}
