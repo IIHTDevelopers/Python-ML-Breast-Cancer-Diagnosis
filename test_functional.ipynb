{
 "cells": [
  {
   "cell_type": "code",
   "execution_count": 2,
   "metadata": {},
   "outputs": [
    {
     "name": "stdout",
     "output_type": "stream",
     "text": [
      "importing Jupyter notebook from TestUtils.ipynb\n",
      "importing Jupyter notebook from TestResults.ipynb\n",
      "importing Jupyter notebook from TestCaseResultDto.ipynb\n"
     ]
    },
    {
     "name": "stderr",
     "output_type": "stream",
     "text": [
      "F"
     ]
    },
    {
     "name": "stdout",
     "output_type": "stream",
     "text": [
      "TestNumericalFeaturesImputed = Failed\n"
     ]
    },
    {
     "name": "stderr",
     "output_type": "stream",
     "text": [
      "F"
     ]
    },
    {
     "name": "stdout",
     "output_type": "stream",
     "text": [
      "TestPipelineCustomModelRandomState = Failed\n"
     ]
    },
    {
     "name": "stderr",
     "output_type": "stream",
     "text": [
      "F"
     ]
    },
    {
     "name": "stdout",
     "output_type": "stream",
     "text": [
      "TestTrainTestSplitReproduciability = Failed\n"
     ]
    },
    {
     "name": "stderr",
     "output_type": "stream",
     "text": [
      "F"
     ]
    },
    {
     "name": "stdout",
     "output_type": "stream",
     "text": [
      "TestTrainVsTestFeartures = Failed\n"
     ]
    },
    {
     "name": "stderr",
     "output_type": "stream",
     "text": [
      "\n",
      "======================================================================\n",
      "FAIL: test_numerical_features_imputed (__main__.FuctionalTests)\n",
      "----------------------------------------------------------------------\n",
      "Traceback (most recent call last):\n",
      "  File \"C:\\Users\\HOME\\AppData\\Local\\Temp\\ipykernel_5132\\1979843517.py\", line 72, in test_numerical_features_imputed\n",
      "    assert passed\n",
      "AssertionError\n",
      "\n",
      "======================================================================\n",
      "FAIL: test_pipeline_custom_model_random_state (__main__.FuctionalTests)\n",
      "----------------------------------------------------------------------\n",
      "Traceback (most recent call last):\n",
      "  File \"C:\\Users\\HOME\\AppData\\Local\\Temp\\ipykernel_5132\\1979843517.py\", line 91, in test_pipeline_custom_model_random_state\n",
      "    assert passed\n",
      "AssertionError\n",
      "\n",
      "======================================================================\n",
      "FAIL: test_train_test_split_reproduciability (__main__.FuctionalTests)\n",
      "----------------------------------------------------------------------\n",
      "Traceback (most recent call last):\n",
      "  File \"C:\\Users\\HOME\\AppData\\Local\\Temp\\ipykernel_5132\\1979843517.py\", line 35, in test_train_test_split_reproduciability\n",
      "    assert passed\n",
      "AssertionError\n",
      "\n",
      "======================================================================\n",
      "FAIL: test_train_vs_test_features (__main__.FuctionalTests)\n",
      "----------------------------------------------------------------------\n",
      "Traceback (most recent call last):\n",
      "  File \"C:\\Users\\HOME\\AppData\\Local\\Temp\\ipykernel_5132\\1979843517.py\", line 52, in test_train_vs_test_features\n",
      "    assert passed\n",
      "AssertionError\n",
      "\n",
      "----------------------------------------------------------------------\n",
      "Ran 4 tests in 17.319s\n",
      "\n",
      "FAILED (failures=4)\n"
     ]
    }
   ],
   "source": [
    "import import_ipynb\n",
    "import os\n",
    "import unittest\n",
    "import pickle\n",
    "import numpy as np\n",
    "\n",
    "from ml import Model\n",
    "\n",
    "#file_path = file_path = os.path.dirname(os.path.realpath(__file__)) + '/../output_revised.txt'\n",
    "\n",
    "try:\n",
    "    model = Model()\n",
    "    X_train, X_test, y_train, y_test = model.data_transformation()\n",
    "except:\n",
    "    pass\n",
    "from TestUtils import TestUtils\n",
    "class FuctionalTests(unittest.TestCase):\n",
    "    def test_train_test_split_reproduciability(self):\n",
    "        test_obj = TestUtils()\n",
    "        try:\n",
    "            X_train2, X_test2, y_train2, y_test2 = model.data_transformation()\n",
    "\n",
    "            if (X_test.equals(X_test2)):\n",
    "                passed = True\n",
    "                test_obj.yakshaAssert(\"TestTrainTestSplitReproduciability\", True, \"functional\")\n",
    "                print(\"TestTrainTestSplitReproduciability = Passed\")\n",
    "            else:\n",
    "                passed = False\n",
    "                test_obj.yakshaAssert(\"TestTrainTestSplitReproduciability\", False, \"functional\")\n",
    "                print(\"TestTrainTestSplitReproduciability = Failed\")\n",
    "        except:\n",
    "            passed = False\n",
    "            test_obj.yakshaAssert(\"TestTrainTestSplitReproduciability\", False, \"functional\")\n",
    "            print(\"TestTrainTestSplitReproduciability = Failed\")\n",
    "        assert passed\n",
    "\n",
    "    def test_train_vs_test_features(self):\n",
    "        test_obj = TestUtils()\n",
    "        try:\n",
    "            if (X_test.shape[1] == X_train.shape[1]):\n",
    "                passed = True\n",
    "                test_obj.yakshaAssert(\"TestTrainVsTestFeartures\", True, \"functional\")\n",
    "                print(\"TestTrainVsTestFeartures = Passed\")\n",
    "            else:\n",
    "                passed = False\n",
    "                test_obj.yakshaAssert(\"TestTrainVsTestFeartures\", False, \"functional\")\n",
    "                print(\"TestTrainVsTestFeartures = Failed\")\n",
    "        except:\n",
    "            passed = False\n",
    "            test_obj.yakshaAssert(\"TestTrainVsTestFeartures\", False, \"functional\")\n",
    "            print(\"TestTrainVsTestFeartures = Failed\")\n",
    "        assert passed\n",
    "\n",
    "    def test_numerical_features_imputed(self):\n",
    "        test_obj = TestUtils()\n",
    "        try:\n",
    "            na_found_train = X_train.isnull().any().any()\n",
    "            na_found_test = X_test.isnull().any().any()\n",
    "\n",
    "            if not (na_found_train or na_found_test):\n",
    "                passed = True\n",
    "                test_obj.yakshaAssert(\"TestNumericalFeaturesImputed\", True, \"functional\")\n",
    "                print(\"TestNumericalFeaturesImputed = Passed\")\n",
    "            else:\n",
    "                passed = False\n",
    "                test_obj.yakshaAssert(\"TestNumericalFeaturesImputed\", False, \"functional\")\n",
    "                print(\"TestNumericalFeaturesImputed = Failed\")\n",
    "        except:\n",
    "            passed = False\n",
    "            test_obj.yakshaAssert(\"TestNumericalFeaturesImputed\", False, \"functional\")\n",
    "            print(\"TestNumericalFeaturesImputed = Failed\")\n",
    "        assert passed\n",
    "\n",
    "    def test_pipeline_custom_model_random_state(self):\n",
    "        test_obj = TestUtils()\n",
    "        try:\n",
    "            loaded_model = pickle.load(open(model.model_file, 'rb'))\n",
    "            model_random_state = loaded_model.random_state\n",
    "            if model_random_state is not None:\n",
    "                passed = True\n",
    "                test_obj.yakshaAssert(\"TestPipelineCustomModelRandomState\", True, \"functional\")\n",
    "                print(\"TestPipelineCustomModelRandomState = Passed\")\n",
    "            else:\n",
    "                passed = False\n",
    "                test_obj.yakshaAssert(\"TestPipelineCustomModelRandomState\", False, \"functional\")\n",
    "                print(\"TestPipelineCustomModelRandomState = Failed\")\n",
    "        except:\n",
    "            passed = False\n",
    "            test_obj.yakshaAssert(\"TestPipelineCustomModelRandomState\", False, \"functional\")\n",
    "            print(\"TestPipelineCustomModelRandomState = Failed\")\n",
    "        assert passed\n",
    "if __name__ == '__main__':\n",
    "    unittest.main(argv=['first-arg-is-ignored'], exit=False)\n"
   ]
  },
  {
   "cell_type": "code",
   "execution_count": null,
   "metadata": {},
   "outputs": [],
   "source": []
  }
 ],
 "metadata": {
  "kernelspec": {
   "display_name": "Python 3 (ipykernel)",
   "language": "python",
   "name": "python3"
  },
  "language_info": {
   "codemirror_mode": {
    "name": "ipython",
    "version": 3
   },
   "file_extension": ".py",
   "mimetype": "text/x-python",
   "name": "python",
   "nbconvert_exporter": "python",
   "pygments_lexer": "ipython3",
   "version": "3.9.0"
  }
 },
 "nbformat": 4,
 "nbformat_minor": 2
}
