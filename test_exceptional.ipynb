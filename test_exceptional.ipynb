{
 "cells": [
  {
   "cell_type": "code",
   "execution_count": null,
   "metadata": {},
   "outputs": [],
   "source": [
    "import import_ipynb\n",
    "import os\n",
    "import unittest\n",
    "import numpy as np\n",
    "\n",
    "from code.ml import Model\n",
    "from code import constants\n",
    "\n",
    "model = Model()\n",
    "\n",
    "#file_path = os.path.dirname(os.path.realpath(__file__)) + '/../output_exception_revised.txt'\n",
    "from tests.TestUtils import TestUtils\n",
    "class ExceptionalTests(unittest.TestCase):\n",
    "    def test_model_exists(self):\n",
    "        test_obj = TestUtils()\n",
    "        try:\n",
    "            model_exists = os.path.exists(constants.MODEL_FOLDER + constants.MODEL_FILE)\n",
    "            if model_exists:\n",
    "                passed  = True\n",
    "                test_obj.yakshaAssert(\"TestModelExists\", True, \"exception\")\n",
    "                print(\"TestModelExists = Passed\")\n",
    "            else:\n",
    "                passed = False\n",
    "                test_obj.yakshaAssert(\"TestModelExists\", False, \"exception\")\n",
    "                print(\"TestModelExists = Failed\")\n",
    "        except:\n",
    "            passed = False\n",
    "            test_obj.yakshaAssert(\"TestModelExists\", False, \"exception\")\n",
    "            print(\"TestModelExists = Failed\")\n",
    "        assert passed\n",
    "\n",
    "    # def test_graphs_exists(self):\n",
    "    #     test_obj = TestUtils()\n",
    "    #     try:\n",
    "    #         n_graphs = len(os.listdir(constants.GRAPHS_FOLDER))\n",
    "    #         if n_graphs != 0:\n",
    "    #             passed = True\n",
    "    #             test_obj.yakshaAssert(\"TestGraphsExists\", True, \"exception\")\n",
    "    #             print(\"TestGraphsExists = Passed\")\n",
    "    #         else:\n",
    "    #             passed = False\n",
    "    #             test_obj.yakshaAssert(\"TestGraphsExists\", False, \"exception\")\n",
    "    #             print(\"TestGraphsExists = Failed\")\n",
    "    #     except:\n",
    "    #         passed = False\n",
    "    #         test_obj.yakshaAssert(\"TestGraphsExists\", False, \"exception\")\n",
    "    #         print(\"TestGraphsExists = Failed\")\n",
    "    #     assert passed\n",
    "\n",
    "if __name__ == '__main__':\n",
    "    unittest.main(argv=['first-arg-is-ignored'], exit=False)    "
   ]
  }
 ],
 "metadata": {
  "kernelspec": {
   "display_name": "Python 3 (ipykernel)",
   "language": "python",
   "name": "python3"
  },
  "language_info": {
   "codemirror_mode": {
    "name": "ipython",
    "version": 3
   },
   "file_extension": ".py",
   "mimetype": "text/x-python",
   "name": "python",
   "nbconvert_exporter": "python",
   "pygments_lexer": "ipython3",
   "version": "3.9.0"
  }
 },
 "nbformat": 4,
 "nbformat_minor": 2
}
