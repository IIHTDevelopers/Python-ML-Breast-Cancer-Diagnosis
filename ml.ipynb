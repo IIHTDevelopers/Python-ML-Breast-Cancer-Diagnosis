{
 "cells": [
  {
   "cell_type": "code",
   "execution_count": null,
   "metadata": {},
   "outputs": [],
   "source": [
    "import import_ipynb\n",
    "import pickle\n",
    "import sys,os\n",
    "sys.path.insert(0,os.getcwd())\n",
    "from code import constants"
   ]
  },
  {
   "cell_type": "code",
   "execution_count": null,
   "metadata": {},
   "outputs": [],
   "source": [
    "class Model():\n",
    "    def __init__(self):\n",
    "        self.data_file = constants.DATA_FOLDER + constants.DATA_FILE\n",
    "        self.model_file = constants.MODEL_FOLDER + constants.MODEL_FILE\n",
    "        self.graphs_folder = constants.GRAPHS_FOLDER\n",
    "    def data_transformation(self, test_data=None, is_train=True):\n",
    "        '''if is_train:\n",
    "            return X_train, X_test, y_train, y_test\n",
    "        else:\n",
    "            return test'''\n",
    "        pass\n",
    "    def model_fit(self, X_train, y_train):\n",
    "\n",
    "        # model = None\n",
    "        # pickle.dump(model, open(self.model_file, 'wb'))\n",
    "        pass\n",
    "    def model_predict(self, X_test):\n",
    "        pass\n",
    "    def cost_metric(self, y_true, y_pred):\n",
    "        pass"
   ]
  },
  {
   "cell_type": "code",
   "execution_count": null,
   "metadata": {},
   "outputs": [],
   "source": [
    "if __name__==\"__main__\":\n",
    "    if not os.path.exists(constants.MODEL_FOLDER):\n",
    "        os.mkdir(constants.MODEL_FOLDER)\n",
    "    #write your required code here"
   ]
  }
 ],
 "metadata": {
  "kernelspec": {
   "display_name": "Python 3 (ipykernel)",
   "language": "python",
   "name": "python3"
  },
  "language_info": {
   "codemirror_mode": {
    "name": "ipython",
    "version": 3
   },
   "file_extension": ".py",
   "mimetype": "text/x-python",
   "name": "python",
   "nbconvert_exporter": "python",
   "pygments_lexer": "ipython3",
   "version": "3.9.0"
  }
 },
 "nbformat": 4,
 "nbformat_minor": 2
}
