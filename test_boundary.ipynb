{
 "cells": [
  {
   "cell_type": "code",
   "execution_count": 1,
   "metadata": {},
   "outputs": [
    {
     "name": "stdout",
     "output_type": "stream",
     "text": [
      "importing Jupyter notebook from ml.ipynb\n",
      "importing Jupyter notebook from constants.ipynb\n",
      "importing Jupyter notebook from TestUtils.ipynb\n",
      "importing Jupyter notebook from TestResults.ipynb\n",
      "importing Jupyter notebook from TestCaseResultDto.ipynb\n"
     ]
    },
    {
     "name": "stderr",
     "output_type": "stream",
     "text": [
      "F"
     ]
    },
    {
     "name": "stdout",
     "output_type": "stream",
     "text": [
      "TestModelNotOverfitting = Failed\n"
     ]
    },
    {
     "name": "stderr",
     "output_type": "stream",
     "text": [
      "F"
     ]
    },
    {
     "name": "stdout",
     "output_type": "stream",
     "text": [
      "TestModelNotUnderfitting = Failed\n"
     ]
    },
    {
     "name": "stderr",
     "output_type": "stream",
     "text": [
      "\n",
      "======================================================================\n",
      "FAIL: test_is_model_overfitting (__main__.BoundaryTests)\n",
      "----------------------------------------------------------------------\n",
      "Traceback (most recent call last):\n",
      "  File \"C:\\Users\\HOME\\AppData\\Local\\Temp\\ipykernel_2956\\4015351292.py\", line 75, in test_is_model_overfitting\n",
      "    assert passed\n",
      "AssertionError\n",
      "\n",
      "======================================================================\n",
      "FAIL: test_is_model_underfitting (__main__.BoundaryTests)\n",
      "----------------------------------------------------------------------\n",
      "Traceback (most recent call last):\n",
      "  File \"C:\\Users\\HOME\\AppData\\Local\\Temp\\ipykernel_2956\\4015351292.py\", line 47, in test_is_model_underfitting\n",
      "    assert passed\n",
      "AssertionError\n",
      "\n",
      "----------------------------------------------------------------------\n",
      "Ran 2 tests in 10.213s\n",
      "\n",
      "FAILED (failures=2)\n"
     ]
    }
   ],
   "source": [
    "import import_ipynb\n",
    "import unittest\n",
    "import pickle\n",
    "import numpy as np\n",
    "from ml import Model\n",
    "\n",
    "model = Model()\n",
    "from TestUtils import TestUtils\n",
    "\n",
    "#import os\n",
    "# import sys,os\n",
    "#sys.path.insert(0,os.getcwd())\n",
    "# #file_path = os.path.dirname(os.path.realpath(__file__)) + '/../output_boundary_revised.txt'\n",
    "\n",
    "\n",
    "\n",
    "\n",
    "class BoundaryTests(unittest.TestCase):\n",
    "    def test_is_model_underfitting(self):\n",
    "        test_obj = TestUtils()\n",
    "        try:\n",
    "        # this is for classification\n",
    "            X_train, X_test, y_train, y_test = model.data_transformation()\n",
    "            max_occuring_label = np.bincount(y_train).argmax()\n",
    "            predictions = model.model_predict(X_test)\n",
    "\n",
    "            benchmark_acc = model.cost_metric(\n",
    "                y_true=y_test, y_pred=[max_occuring_label]*y_test.shape[0]\n",
    "            )\n",
    "\n",
    "            predicted_acc = model.cost_metric(\n",
    "                y_true=y_test, y_pred=predictions\n",
    "            )\n",
    "\n",
    "            if predicted_acc > benchmark_acc:\n",
    "                passed = True\n",
    "                test_obj.yakshaAssert(\"TestModelNotUnderfitting\",True,\"boundary\")\n",
    "                print(\"TestModelNotUnderfitting = Passed\")\n",
    "            else:\n",
    "                passed = False\n",
    "                test_obj.yakshaAssert(\"TestModelNotUnderfitting\",False,\"boundary\")\n",
    "                print(\"TestModelNotUnderfitting = Failed\")\n",
    "        except:\n",
    "            passed = False\n",
    "            test_obj.yakshaAssert(\"TestModelNotUnderfitting\",False,\"boundary\")\n",
    "            print(\"TestModelNotUnderfitting = Failed\")\n",
    "        assert passed\n",
    "\n",
    "    def test_is_model_overfitting(self):\n",
    "        test_obj = TestUtils()\n",
    "        try:\n",
    "            X_train, X_test, y_train, y_test = model.data_transformation()\n",
    "            train_predict = model.model_predict(X_train)\n",
    "            train_acc = model.cost_metric(\n",
    "                y_true=y_train.values, y_pred=train_predict\n",
    "            )\n",
    "            test_predict = model.model_predict(X_test)\n",
    "            test_acc = model.cost_metric(\n",
    "                y_true=y_test.values, y_pred=test_predict\n",
    "            )\n",
    "            perc_10 = (train_acc/100)*10\n",
    "            diff = abs(train_acc-test_acc)\n",
    "            if diff < perc_10:\n",
    "                passed = True\n",
    "                test_obj.yakshaAssert(\"TestModelNotOverfitting\",True,\"boundary\")\n",
    "                print(\"TestModelNotOverfitting = Passed\")\n",
    "            else:\n",
    "                passed = False\n",
    "                test_obj.yakshaAssert(\"TestModelNotOverfitting\",False,\"boundary\")\n",
    "                print(\"TestModelNotOverfitting = Failed\")\n",
    "        except:\n",
    "            passed = False\n",
    "            test_obj.yakshaAssert(\"TestModelNotOverfitting\",False,\"boundary\")\n",
    "            print(\"TestModelNotOverfitting = Failed\")\n",
    "        assert passed\n",
    "\n",
    "if __name__ == '__main__':\n",
    "    unittest.main(argv=['first-arg-is-ignored'], exit=False)        "
   ]
  },
  {
   "cell_type": "code",
   "execution_count": null,
   "metadata": {},
   "outputs": [],
   "source": []
  }
 ],
 "metadata": {
  "kernelspec": {
   "display_name": "Python 3 (ipykernel)",
   "language": "python",
   "name": "python3"
  },
  "language_info": {
   "codemirror_mode": {
    "name": "ipython",
    "version": 3
   },
   "file_extension": ".py",
   "mimetype": "text/x-python",
   "name": "python",
   "nbconvert_exporter": "python",
   "pygments_lexer": "ipython3",
   "version": "3.9.0"
  }
 },
 "nbformat": 4,
 "nbformat_minor": 2
}
